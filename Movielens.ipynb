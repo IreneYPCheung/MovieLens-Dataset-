{
 "cells": [
  {
   "cell_type": "code",
   "execution_count": 2,
   "metadata": {},
   "outputs": [],
   "source": [
    "import math\n",
    "import pandas as pd\n",
    "import numpy as np\n",
    "import matplotlib.pyplot as plt"
   ]
  },
  {
   "cell_type": "markdown",
   "metadata": {},
   "source": [
    "#### Reading the ratings data"
   ]
  },
  {
   "cell_type": "code",
   "execution_count": 3,
   "metadata": {},
   "outputs": [],
   "source": [
    "r_cols = ['user_id', 'movie_id', 'rating', 'timestamp']"
   ]
  },
  {
   "cell_type": "code",
   "execution_count": 4,
   "metadata": {},
   "outputs": [],
   "source": [
    "ratings = pd.read_csv('D:/challenge/ml-1m/ratings.dat',sep=\"::\",  names=r_cols, engine='python')"
   ]
  },
  {
   "cell_type": "code",
   "execution_count": 5,
   "metadata": {},
   "outputs": [
    {
     "name": "stdout",
     "output_type": "stream",
     "text": [
      "   user_id  movie_id  rating  timestamp\n",
      "0        1      1193       5  978300760\n",
      "1        1       661       3  978302109\n",
      "2        1       914       3  978301968\n",
      "3        1      3408       4  978300275\n",
      "4        1      2355       5  978824291\n"
     ]
    }
   ],
   "source": [
    "print(ratings.head())"
   ]
  },
  {
   "cell_type": "code",
   "execution_count": 6,
   "metadata": {},
   "outputs": [
    {
     "name": "stdout",
     "output_type": "stream",
     "text": [
      "<class 'pandas.core.frame.DataFrame'>\n",
      "RangeIndex: 1000209 entries, 0 to 1000208\n",
      "Data columns (total 4 columns):\n",
      "user_id      1000209 non-null int64\n",
      "movie_id     1000209 non-null int64\n",
      "rating       1000209 non-null int64\n",
      "timestamp    1000209 non-null int64\n",
      "dtypes: int64(4)\n",
      "memory usage: 30.5 MB\n",
      "None\n"
     ]
    }
   ],
   "source": [
    "# Check the file info\n",
    "print(ratings.info())"
   ]
  },
  {
   "cell_type": "markdown",
   "metadata": {},
   "source": [
    "#### Reading the movies data"
   ]
  },
  {
   "cell_type": "code",
   "execution_count": 7,
   "metadata": {},
   "outputs": [],
   "source": [
    "m_cols = ['movie_id', 'title', 'genres']"
   ]
  },
  {
   "cell_type": "code",
   "execution_count": 8,
   "metadata": {},
   "outputs": [],
   "source": [
    "movies = pd.read_csv('D:/challenge/ml-1m/movies.dat',sep=\"::\",  names=m_cols, engine='python')"
   ]
  },
  {
   "cell_type": "code",
   "execution_count": 9,
   "metadata": {},
   "outputs": [
    {
     "name": "stdout",
     "output_type": "stream",
     "text": [
      "   movie_id                               title                        genres\n",
      "0         1                    Toy Story (1995)   Animation|Children's|Comedy\n",
      "1         2                      Jumanji (1995)  Adventure|Children's|Fantasy\n",
      "2         3             Grumpier Old Men (1995)                Comedy|Romance\n",
      "3         4            Waiting to Exhale (1995)                  Comedy|Drama\n",
      "4         5  Father of the Bride Part II (1995)                        Comedy\n"
     ]
    }
   ],
   "source": [
    "print(movies.head())"
   ]
  },
  {
   "cell_type": "code",
   "execution_count": 10,
   "metadata": {},
   "outputs": [
    {
     "name": "stdout",
     "output_type": "stream",
     "text": [
      "<class 'pandas.core.frame.DataFrame'>\n",
      "RangeIndex: 3883 entries, 0 to 3882\n",
      "Data columns (total 3 columns):\n",
      "movie_id    3883 non-null int64\n",
      "title       3883 non-null object\n",
      "genres      3883 non-null object\n",
      "dtypes: int64(1), object(2)\n",
      "memory usage: 91.1+ KB\n",
      "None\n"
     ]
    }
   ],
   "source": [
    "# Check the file info\n",
    "print(movies.info())"
   ]
  },
  {
   "cell_type": "markdown",
   "metadata": {},
   "source": [
    "#### Reading the users data"
   ]
  },
  {
   "cell_type": "code",
   "execution_count": 11,
   "metadata": {},
   "outputs": [],
   "source": [
    "u_cols = ['user_id', 'gender', 'zipcode', 'age_desc', 'occ_desc']\n"
   ]
  },
  {
   "cell_type": "code",
   "execution_count": 12,
   "metadata": {},
   "outputs": [],
   "source": [
    "users = pd.read_csv('D:/challenge/ml-1m/users.dat',sep=\"::\",  names=u_cols, engine='python')"
   ]
  },
  {
   "cell_type": "code",
   "execution_count": 13,
   "metadata": {},
   "outputs": [
    {
     "name": "stdout",
     "output_type": "stream",
     "text": [
      "   user_id gender  zipcode  age_desc occ_desc\n",
      "0        1      F        1        10    48067\n",
      "1        2      M       56        16    70072\n",
      "2        3      M       25        15    55117\n",
      "3        4      M       45         7    02460\n",
      "4        5      M       25        20    55455\n"
     ]
    }
   ],
   "source": [
    "print(users.head())"
   ]
  },
  {
   "cell_type": "code",
   "execution_count": 14,
   "metadata": {},
   "outputs": [
    {
     "name": "stdout",
     "output_type": "stream",
     "text": [
      "<class 'pandas.core.frame.DataFrame'>\n",
      "RangeIndex: 6040 entries, 0 to 6039\n",
      "Data columns (total 5 columns):\n",
      "user_id     6040 non-null int64\n",
      "gender      6040 non-null object\n",
      "zipcode     6040 non-null int64\n",
      "age_desc    6040 non-null int64\n",
      "occ_desc    6040 non-null object\n",
      "dtypes: int64(3), object(2)\n",
      "memory usage: 236.0+ KB\n",
      "None\n"
     ]
    }
   ],
   "source": [
    "# Check the file info\n",
    "print(users.info())"
   ]
  },
  {
   "cell_type": "markdown",
   "metadata": {},
   "source": [
    "### Data Exploration"
   ]
  },
  {
   "cell_type": "markdown",
   "metadata": {},
   "source": [
    "#### Word-Cloud Visualization"
   ]
  },
  {
   "cell_type": "code",
   "execution_count": 15,
   "metadata": {},
   "outputs": [
    {
     "data": {
      "image/png": "[encoded data removed]",
      "text/plain": [
       "<Figure size 1152x576 with 1 Axes>"
      ]
     },
     "metadata": {},
     "output_type": "display_data"
    }
   ],
   "source": [
    "# Import new libraries\n",
    "%matplotlib inline\n",
    "\n",
    "import wordcloud\n",
    "from wordcloud import WordCloud, STOPWORDS\n",
    "\n",
    "# Create a wordcloud of the movie titles\n",
    "movies['title'] = movies['title'].fillna(\"\").astype('str')\n",
    "title_corpus = ' '.join(movies['title'])\n",
    "title_wordcloud = WordCloud(stopwords=STOPWORDS, background_color='white', height=2000, width=4000).generate(title_corpus)\n",
    "\n",
    "# Plot the wordcloud\n",
    "plt.figure(figsize=(16,8))\n",
    "plt.imshow(title_wordcloud)\n",
    "plt.axis('off')\n",
    "plt.show()"
   ]
  },
  {
   "cell_type": "markdown",
   "metadata": {},
   "source": [
    "### Ratings"
   ]
  },
  {
   "cell_type": "code",
   "execution_count": 16,
   "metadata": {},
   "outputs": [
    {
     "data": {
      "text/plain": [
       "count    1.000209e+06\n",
       "mean     3.581564e+00\n",
       "std      1.117102e+00\n",
       "min      1.000000e+00\n",
       "25%      3.000000e+00\n",
       "50%      4.000000e+00\n",
       "75%      4.000000e+00\n",
       "max      5.000000e+00\n",
       "Name: rating, dtype: float64"
      ]
     },
     "execution_count": 16,
     "metadata": {},
     "output_type": "execute_result"
    }
   ],
   "source": [
    "# Get summary statistics of rating\n",
    "ratings['rating'].describe()"
   ]
  },
  {
   "cell_type": "markdown",
   "metadata": {},
   "source": [
    "### Display Distribution of Rating"
   ]
  },
  {
   "cell_type": "code",
   "execution_count": 17,
   "metadata": {},
   "outputs": [
    {
     "name": "stderr",
     "output_type": "stream",
     "text": [
      "C:\\Users\\Irene\\Anaconda3\\lib\\site-packages\\matplotlib\\axes\\_axes.py:6448: UserWarning: The 'normed' kwarg is deprecated, and has been replaced by the 'density' kwarg.\n",
      "  warnings.warn(\"The 'normed' kwarg is deprecated, and has been \"\n"
     ]
    },
    {
     "data": {
      "text/plain": [
       "<matplotlib.axes._subplots.AxesSubplot at 0x1a17c6c2f28>"
      ]
     },
     "execution_count": 17,
     "metadata": {},
     "output_type": "execute_result"
    },
    {
     "data": {
      "image/png": "[encoded data removed]",
      "text/plain": [
       "<Figure size 432x288 with 1 Axes>"
      ]
     },
     "metadata": {},
     "output_type": "display_data"
    }
   ],
   "source": [
    "# Import seaborn library\n",
    "import seaborn as sns\n",
    "sns.set_style('whitegrid')\n",
    "sns.set(font_scale=1.5)\n",
    "%matplotlib inline\n",
    "\n",
    "# Display distribution of rating\n",
    "sns.distplot(ratings['rating'].fillna(ratings['rating'].median()))"
   ]
  },
  {
   "cell_type": "markdown",
   "metadata": {},
   "source": [
    "### Display Top 20 movies with highest ratings"
   ]
  },
  {
   "cell_type": "code",
   "execution_count": 18,
   "metadata": {},
   "outputs": [
    {
     "data": {
      "text/html": [
       "<div>\n",
       "<style scoped>\n",
       "    .dataframe tbody tr th:only-of-type {\n",
       "        vertical-align: middle;\n",
       "    }\n",
       "\n",
       "    .dataframe tbody tr th {\n",
       "        vertical-align: top;\n",
       "    }\n",
       "\n",
       "    .dataframe thead th {\n",
       "        text-align: right;\n",
       "    }\n",
       "</style>\n",
       "<table border=\"1\" class=\"dataframe\">\n",
       "  <thead>\n",
       "    <tr style=\"text-align: right;\">\n",
       "      <th></th>\n",
       "      <th>title</th>\n",
       "      <th>genres</th>\n",
       "      <th>rating</th>\n",
       "    </tr>\n",
       "  </thead>\n",
       "  <tbody>\n",
       "    <tr>\n",
       "      <th>0</th>\n",
       "      <td>Toy Story (1995)</td>\n",
       "      <td>Animation|Children's|Comedy</td>\n",
       "      <td>5</td>\n",
       "    </tr>\n",
       "    <tr>\n",
       "      <th>489283</th>\n",
       "      <td>American Beauty (1999)</td>\n",
       "      <td>Comedy|Drama</td>\n",
       "      <td>5</td>\n",
       "    </tr>\n",
       "    <tr>\n",
       "      <th>489259</th>\n",
       "      <td>Election (1999)</td>\n",
       "      <td>Comedy</td>\n",
       "      <td>5</td>\n",
       "    </tr>\n",
       "    <tr>\n",
       "      <th>489257</th>\n",
       "      <td>Matrix, The (1999)</td>\n",
       "      <td>Action|Sci-Fi|Thriller</td>\n",
       "      <td>5</td>\n",
       "    </tr>\n",
       "    <tr>\n",
       "      <th>489256</th>\n",
       "      <td>Dead Ringers (1988)</td>\n",
       "      <td>Drama|Thriller</td>\n",
       "      <td>5</td>\n",
       "    </tr>\n",
       "    <tr>\n",
       "      <th>489237</th>\n",
       "      <td>Rushmore (1998)</td>\n",
       "      <td>Comedy</td>\n",
       "      <td>5</td>\n",
       "    </tr>\n",
       "    <tr>\n",
       "      <th>489236</th>\n",
       "      <td>Simple Plan, A (1998)</td>\n",
       "      <td>Crime|Thriller</td>\n",
       "      <td>5</td>\n",
       "    </tr>\n",
       "    <tr>\n",
       "      <th>489226</th>\n",
       "      <td>Hands on a Hard Body (1996)</td>\n",
       "      <td>Documentary</td>\n",
       "      <td>5</td>\n",
       "    </tr>\n",
       "    <tr>\n",
       "      <th>489224</th>\n",
       "      <td>Pleasantville (1998)</td>\n",
       "      <td>Comedy</td>\n",
       "      <td>5</td>\n",
       "    </tr>\n",
       "    <tr>\n",
       "      <th>489212</th>\n",
       "      <td>Say Anything... (1989)</td>\n",
       "      <td>Comedy|Drama|Romance</td>\n",
       "      <td>5</td>\n",
       "    </tr>\n",
       "    <tr>\n",
       "      <th>489207</th>\n",
       "      <td>Beetlejuice (1988)</td>\n",
       "      <td>Comedy|Fantasy</td>\n",
       "      <td>5</td>\n",
       "    </tr>\n",
       "    <tr>\n",
       "      <th>489190</th>\n",
       "      <td>Roger &amp; Me (1989)</td>\n",
       "      <td>Comedy|Documentary</td>\n",
       "      <td>5</td>\n",
       "    </tr>\n",
       "    <tr>\n",
       "      <th>489172</th>\n",
       "      <td>Buffalo 66 (1998)</td>\n",
       "      <td>Action|Comedy|Drama</td>\n",
       "      <td>5</td>\n",
       "    </tr>\n",
       "    <tr>\n",
       "      <th>489171</th>\n",
       "      <td>Out of Sight (1998)</td>\n",
       "      <td>Action|Crime|Romance</td>\n",
       "      <td>5</td>\n",
       "    </tr>\n",
       "    <tr>\n",
       "      <th>489170</th>\n",
       "      <td>I Went Down (1997)</td>\n",
       "      <td>Action|Comedy|Crime</td>\n",
       "      <td>5</td>\n",
       "    </tr>\n",
       "    <tr>\n",
       "      <th>489168</th>\n",
       "      <td>Opposite of Sex, The (1998)</td>\n",
       "      <td>Comedy|Drama</td>\n",
       "      <td>5</td>\n",
       "    </tr>\n",
       "    <tr>\n",
       "      <th>489157</th>\n",
       "      <td>Good Will Hunting (1997)</td>\n",
       "      <td>Drama</td>\n",
       "      <td>5</td>\n",
       "    </tr>\n",
       "    <tr>\n",
       "      <th>489152</th>\n",
       "      <td>Fast, Cheap &amp; Out of Control (1997)</td>\n",
       "      <td>Documentary</td>\n",
       "      <td>5</td>\n",
       "    </tr>\n",
       "    <tr>\n",
       "      <th>489149</th>\n",
       "      <td>L.A. Confidential (1997)</td>\n",
       "      <td>Crime|Film-Noir|Mystery|Thriller</td>\n",
       "      <td>5</td>\n",
       "    </tr>\n",
       "    <tr>\n",
       "      <th>489145</th>\n",
       "      <td>Contact (1997)</td>\n",
       "      <td>Drama|Sci-Fi</td>\n",
       "      <td>5</td>\n",
       "    </tr>\n",
       "  </tbody>\n",
       "</table>\n",
       "</div>"
      ],
      "text/plain": [
       "                                      title                            genres  \\\n",
       "0                          Toy Story (1995)       Animation|Children's|Comedy   \n",
       "489283               American Beauty (1999)                      Comedy|Drama   \n",
       "489259                      Election (1999)                            Comedy   \n",
       "489257                   Matrix, The (1999)            Action|Sci-Fi|Thriller   \n",
       "489256                  Dead Ringers (1988)                    Drama|Thriller   \n",
       "489237                      Rushmore (1998)                            Comedy   \n",
       "489236                Simple Plan, A (1998)                    Crime|Thriller   \n",
       "489226          Hands on a Hard Body (1996)                       Documentary   \n",
       "489224                 Pleasantville (1998)                            Comedy   \n",
       "489212               Say Anything... (1989)              Comedy|Drama|Romance   \n",
       "489207                   Beetlejuice (1988)                    Comedy|Fantasy   \n",
       "489190                    Roger & Me (1989)                Comedy|Documentary   \n",
       "489172                    Buffalo 66 (1998)               Action|Comedy|Drama   \n",
       "489171                  Out of Sight (1998)              Action|Crime|Romance   \n",
       "489170                   I Went Down (1997)               Action|Comedy|Crime   \n",
       "489168          Opposite of Sex, The (1998)                      Comedy|Drama   \n",
       "489157             Good Will Hunting (1997)                             Drama   \n",
       "489152  Fast, Cheap & Out of Control (1997)                       Documentary   \n",
       "489149             L.A. Confidential (1997)  Crime|Film-Noir|Mystery|Thriller   \n",
       "489145                       Contact (1997)                      Drama|Sci-Fi   \n",
       "\n",
       "        rating  \n",
       "0            5  \n",
       "489283       5  \n",
       "489259       5  \n",
       "489257       5  \n",
       "489256       5  \n",
       "489237       5  \n",
       "489236       5  \n",
       "489226       5  \n",
       "489224       5  \n",
       "489212       5  \n",
       "489207       5  \n",
       "489190       5  \n",
       "489172       5  \n",
       "489171       5  \n",
       "489170       5  \n",
       "489168       5  \n",
       "489157       5  \n",
       "489152       5  \n",
       "489149       5  \n",
       "489145       5  "
      ]
     },
     "execution_count": 18,
     "metadata": {},
     "output_type": "execute_result"
    }
   ],
   "source": [
    "# Join all 3 files into one dataframe\n",
    "dataset = pd.merge(pd.merge(movies, ratings),users)\n",
    "# Display 20 movies with highest ratings\n",
    "dataset[['title','genres','rating']].sort_values('rating', ascending=False).head(20)"
   ]
  },
  {
   "cell_type": "markdown",
   "metadata": {},
   "source": [
    "### Check the most popular genres"
   ]
  },
  {
   "cell_type": "markdown",
   "metadata": {},
   "source": [
    "####  Assumption:  Films in the same genre should have similar contents. "
   ]
  },
  {
   "cell_type": "code",
   "execution_count": 19,
   "metadata": {},
   "outputs": [
    {
     "data": {
      "text/plain": [
       "[['Drama', 1603],\n",
       " ['Comedy', 1200],\n",
       " ['Action', 503],\n",
       " ['Thriller', 492],\n",
       " ['Romance', 471]]"
      ]
     },
     "execution_count": 19,
     "metadata": {},
     "output_type": "execute_result"
    }
   ],
   "source": [
    "# Make a census of the genre keywords\n",
    "genre_labels = set()\n",
    "for s in movies['genres'].str.split('|').values:\n",
    "    genre_labels = genre_labels.union(set(s))\n",
    "\n",
    "# Function that counts the number of times each of the genre keywords appear\n",
    "def count_word(dataset, ref_col, census):\n",
    "    keyword_count = dict()\n",
    "    for s in census: \n",
    "        keyword_count[s] = 0\n",
    "    for census_keywords in dataset[ref_col].str.split('|'):        \n",
    "        if type(census_keywords) == float and pd.isnull(census_keywords): \n",
    "            continue        \n",
    "        for s in [s for s in census_keywords if s in census]: \n",
    "            if pd.notnull(s): \n",
    "                keyword_count[s] += 1\n",
    "    #______________________________________________________________________\n",
    "    # convert the dictionary in a list to sort the keywords by frequency\n",
    "    keyword_occurences = []\n",
    "    for k,v in keyword_count.items():\n",
    "        keyword_occurences.append([k,v])\n",
    "    keyword_occurences.sort(key = lambda x:x[1], reverse = True)\n",
    "    return keyword_occurences, keyword_count\n",
    "\n",
    "# Calling this function gives access to a list of genre keywords which are sorted by decreasing frequency\n",
    "keyword_occurences, dum = count_word(movies, 'genres', genre_labels)\n",
    "keyword_occurences[:5]"
   ]
  },
  {
   "cell_type": "markdown",
   "metadata": {},
   "source": [
    "#### The top 5 genres are Drama, Comedy, Action, Thriller, and Romance."
   ]
  },
  {
   "cell_type": "markdown",
   "metadata": {},
   "source": [
    "### Visualization the most popular genres by wordcloud"
   ]
  },
  {
   "cell_type": "code",
   "execution_count": 20,
   "metadata": {},
   "outputs": [
    {
     "data": {
      "image/png": "[encoded data removed]",
      "text/plain": [
       "<Figure size 1152x576 with 1 Axes>"
      ]
     },
     "metadata": {},
     "output_type": "display_data"
    }
   ],
   "source": [
    "# Define the dictionary used to produce the genre wordcloud\n",
    "genres = dict()\n",
    "trunc_occurences = keyword_occurences[0:18]\n",
    "for s in trunc_occurences:\n",
    "    genres[s[0]] = s[1]\n",
    "\n",
    "# Create the wordcloud\n",
    "genre_wordcloud = WordCloud(width=1000,height=400, background_color='pink')\n",
    "genre_wordcloud.generate_from_frequencies(genres)\n",
    "\n",
    "# Plot the wordcloud\n",
    "f, ax = plt.subplots(figsize=(16, 8))\n",
    "plt.imshow(genre_wordcloud, interpolation=\"bilinear\")\n",
    "plt.axis('off')\n",
    "plt.show()"
   ]
  },
  {
   "cell_type": "markdown",
   "metadata": {
    "collapsed": true
   },
   "source": [
    "### The top five genres are Drama, Comedy, Action, Triller and Romance"
   ]
  },
  {
   "cell_type": "markdown",
   "metadata": {},
   "source": [
    "## Content-based Recommendation Model"
   ]
  },
  {
   "cell_type": "markdown",
   "metadata": {},
   "source": [
    "### Recommend movies with same genres"
   ]
  },
  {
   "cell_type": "code",
   "execution_count": 21,
   "metadata": {},
   "outputs": [],
   "source": [
    "# Break up the big genre string into a string array\n",
    "movies['genres'] = movies['genres'].str.split('|')\n",
    "# Convert genres to string value\n",
    "movies['genres'] = movies['genres'].fillna(\"\").astype('str')"
   ]
  },
  {
   "cell_type": "markdown",
   "metadata": {},
   "source": [
    "### Text mining, apply Term Frequency (TF) and Inverse Document Frequency (IDF)"
   ]
  },
  {
   "cell_type": "code",
   "execution_count": 22,
   "metadata": {},
   "outputs": [
    {
     "data": {
      "text/plain": [
       "(3883, 127)"
      ]
     },
     "execution_count": 22,
     "metadata": {},
     "output_type": "execute_result"
    }
   ],
   "source": [
    "from sklearn.feature_extraction.text import TfidfVectorizer\n",
    "tf = TfidfVectorizer(analyzer='word',ngram_range=(1, 2),min_df=0, stop_words='english')\n",
    "tfidf_matrix = tf.fit_transform(movies['genres'])\n",
    "tfidf_matrix.shape"
   ]
  },
  {
   "cell_type": "markdown",
   "metadata": {},
   "source": [
    "### Cosine Similarity"
   ]
  },
  {
   "cell_type": "code",
   "execution_count": 23,
   "metadata": {},
   "outputs": [
    {
     "data": {
      "text/plain": [
       "array([[1.        , 0.14193614, 0.09010857, 0.1056164 ],\n",
       "       [0.14193614, 1.        , 0.        , 0.        ],\n",
       "       [0.09010857, 0.        , 1.        , 0.1719888 ],\n",
       "       [0.1056164 , 0.        , 0.1719888 , 1.        ]])"
      ]
     },
     "execution_count": 23,
     "metadata": {},
     "output_type": "execute_result"
    }
   ],
   "source": [
    "from sklearn.metrics.pairwise import linear_kernel\n",
    "cosine_sim = linear_kernel(tfidf_matrix, tfidf_matrix)\n",
    "cosine_sim[:4, :4]"
   ]
  },
  {
   "cell_type": "code",
   "execution_count": 24,
   "metadata": {},
   "outputs": [],
   "source": [
    "# Build a 1-dimensional array with movie titles\n",
    "titles = movies['title']\n",
    "indices = pd.Series(movies.index, index=movies['title'])\n",
    "\n",
    "# Function that get movie recommendations based on the cosine similarity score of movie genres\n",
    "def genre_recommendations(title):\n",
    "    idx = indices[title]\n",
    "    sim_scores = list(enumerate(cosine_sim[idx]))\n",
    "    sim_scores = sorted(sim_scores, key=lambda x: x[1], reverse=True)\n",
    "    sim_scores = sim_scores[1:21]\n",
    "    movie_indices = [i[0] for i in sim_scores]\n",
    "    return titles.iloc[movie_indices]"
   ]
  },
  {
   "cell_type": "markdown",
   "metadata": {},
   "source": [
    "#### Validation"
   ]
  },
  {
   "cell_type": "code",
   "execution_count": 25,
   "metadata": {},
   "outputs": [
    {
     "data": {
      "text/plain": [
       "25                                        Othello (1995)\n",
       "26                                   Now and Then (1995)\n",
       "29     Shanghai Triad (Yao a yao yao dao waipo qiao) ...\n",
       "30                                Dangerous Minds (1995)\n",
       "35                               Dead Man Walking (1995)\n",
       "39                       Cry, the Beloved Country (1995)\n",
       "42                                    Restoration (1995)\n",
       "52                                       Lamerica (1994)\n",
       "54                                        Georgia (1995)\n",
       "56                          Home for the Holidays (1995)\n",
       "61                             Mr. Holland's Opus (1995)\n",
       "66                                       Two Bits (1995)\n",
       "77                            Crossing Guard, The (1995)\n",
       "79          White Balloon, The (Badkonake Sefid ) (1995)\n",
       "81                       Antonia's Line (Antonia) (1995)\n",
       "82       Once Upon a Time... When We Were Colored (1995)\n",
       "89                    Journey of August King, The (1995)\n",
       "92                                Beautiful Girls (1996)\n",
       "95                               Hate (Haine, La) (1995)\n",
       "112                             Margaret's Museum (1995)\n",
       "Name: title, dtype: object"
      ]
     },
     "execution_count": 25,
     "metadata": {},
     "output_type": "execute_result"
    }
   ],
   "source": [
    "# Drama\n",
    "genre_recommendations('Good Will Hunting (1997)').head(50)"
   ]
  },
  {
   "cell_type": "code",
   "execution_count": 26,
   "metadata": {},
   "outputs": [
    {
     "data": {
      "text/plain": [
       "18                 Ace Ventura: When Nature Calls (1995)\n",
       "37                                   It Takes Two (1995)\n",
       "51                               Mighty Aphrodite (1995)\n",
       "62     Don't Be a Menace to South Central While Drink...\n",
       "64                                       Bio-Dome (1996)\n",
       "68                                         Friday (1995)\n",
       "87                                    Black Sheep (1996)\n",
       "94                         In the Bleak Midwinter (1995)\n",
       "99                                  Bottle Rocket (1996)\n",
       "100                                     Mr. Wrong (1996)\n",
       "102                                 Happy Gilmore (1996)\n",
       "107                  Headless Body in Topless Bar (1995)\n",
       "113                     Happiness Is in the Field (1995)\n",
       "117                       Steal Big, Steal Little (1995)\n",
       "123                        Flirting With Disaster (1996)\n",
       "133                                Down Periscope (1996)\n",
       "139                                 Birdcage, The (1996)\n",
       "142                        Brothers McMullen, The (1995)\n",
       "154                              Blue in the Face (1995)\n",
       "169                                       Jeffrey (1995)\n",
       "Name: title, dtype: object"
      ]
     },
     "execution_count": 26,
     "metadata": {},
     "output_type": "execute_result"
    }
   ],
   "source": [
    "# Comedy\n",
    "genre_recommendations('Rushmore (1998)').head(20)"
   ]
  },
  {
   "cell_type": "code",
   "execution_count": 27,
   "metadata": {},
   "outputs": [
    {
     "data": {
      "text/plain": [
       "283                Nemesis 2: Nebula (1995)\n",
       "585       Terminator 2: Judgment Day (1991)\n",
       "683                             Solo (1996)\n",
       "738                     Arrival, The (1996)\n",
       "1024              Lawnmower Man, The (1992)\n",
       "1220                 Terminator, The (1984)\n",
       "1533                        Face/Off (1997)\n",
       "1763                   Lost in Space (1998)\n",
       "2502                     Matrix, The (1999)\n",
       "2531                        eXistenZ (1999)\n",
       "2653                   Deep Blue Sea (1999)\n",
       "3458                        Predator (1987)\n",
       "3628                      Predator 2 (1990)\n",
       "375                          Timecop (1994)\n",
       "401     Highlander III: The Sorcerer (1994)\n",
       "438                   Demolition Man (1993)\n",
       "500                        No Escape (1994)\n",
       "728                        Barb Wire (1996)\n",
       "1362        Adrenalin: Fear the Rush (1996)\n",
       "1491              Fifth Element, The (1997)\n",
       "Name: title, dtype: object"
      ]
     },
     "execution_count": 27,
     "metadata": {},
     "output_type": "execute_result"
    }
   ],
   "source": [
    "# Action \n",
    "genre_recommendations('Matrix, The (1999)').head(20)"
   ]
  },
  {
   "cell_type": "code",
   "execution_count": 28,
   "metadata": {},
   "outputs": [
    {
     "data": {
      "text/plain": [
       "60                       Eye for an Eye (1996)\n",
       "78                           Juror, The (1996)\n",
       "90                          Mary Reilly (1996)\n",
       "98                            City Hall (1996)\n",
       "109                         Taxi Driver (1976)\n",
       "215                     Babysitter, The (1995)\n",
       "222                          Disclosure (1994)\n",
       "226                Death and the Maiden (1994)\n",
       "227                   Dolores Claiborne (1994)\n",
       "277                 Murder in the First (1995)\n",
       "432                      Color of Night (1994)\n",
       "450                           Firm, The (1993)\n",
       "477                          Kalifornia (1993)\n",
       "589           Silence of the Lambs, The (1991)\n",
       "610                              Loaded (1994)\n",
       "622                    Last Supper, The (1995)\n",
       "623                         Primal Fear (1996)\n",
       "635                          Diabolique (1996)\n",
       "671    Some Folks Call It a Sling Blade (1993)\n",
       "821                              Ransom (1996)\n",
       "Name: title, dtype: object"
      ]
     },
     "execution_count": 28,
     "metadata": {},
     "output_type": "execute_result"
    }
   ],
   "source": [
    "# Triller \n",
    "genre_recommendations('Dead Ringers (1988)').head(20)"
   ]
  },
  {
   "cell_type": "code",
   "execution_count": 29,
   "metadata": {},
   "outputs": [
    {
     "data": {
      "text/plain": [
       "1487     Truth or Consequences, N.M. (1997)\n",
       "1843                    Out of Sight (1998)\n",
       "2623       Run Lola Run (Lola rennt) (1998)\n",
       "281                     New York Cop (1996)\n",
       "985                       Set It Off (1996)\n",
       "1727                King of New York (1990)\n",
       "2191                          Wisdom (1986)\n",
       "2239                    Detroit 9000 (1973)\n",
       "2499                  Mod Squad, The (1999)\n",
       "2547                      Dick Tracy (1990)\n",
       "3196    Hard-Boiled (Lashou shentan) (1992)\n",
       "3647                    Fatal Beauty (1987)\n",
       "3648              Gone in 60 Seconds (2000)\n",
       "3660                           Shaft (1971)\n",
       "3675                           Shaft (2000)\n",
       "3712                 Shaft in Africa (1973)\n",
       "3713              Shaft's Big Score! (1972)\n",
       "41                   Dead Presidents (1995)\n",
       "489                Menace II Society (1993)\n",
       "847                   Godfather, The (1972)\n",
       "Name: title, dtype: object"
      ]
     },
     "execution_count": 29,
     "metadata": {},
     "output_type": "execute_result"
    }
   ],
   "source": [
    "# Romance\n",
    "genre_recommendations('Out of Sight (1998)').head(20)"
   ]
  },
  {
   "cell_type": "markdown",
   "metadata": {},
   "source": [
    "| Pros                          |  Cons                                |\n",
    "|-------------------------------|--------------------------------------|\n",
    "|  No need for data on other users |Difficult to find appropriate features in movies|\n",
    "|  Can recommend to new and unpopular items |Do not recommend the items which are outside the user's content, ie: new users|\n",
    "|  Can provide recommendation to unique tastes of users | Unable to identify the quality judgements of other users |"
   ]
  },
  {
   "cell_type": "markdown",
   "metadata": {},
   "source": [
    "# Collaborative Filtering Recommendation Model"
   ]
  },
  {
   "cell_type": "markdown",
   "metadata": {},
   "source": [
    "### Pearson Similarity "
   ]
  },
  {
   "cell_type": "markdown",
   "metadata": {},
   "source": [
    "### Data Wrangling"
   ]
  },
  {
   "cell_type": "code",
   "execution_count": 30,
   "metadata": {},
   "outputs": [],
   "source": [
    "# Add \"NaN\" in user_id and movie_id column with 0\n",
    "ratings['user_id'] = ratings['user_id'].fillna(0)\n",
    "ratings['movie_id'] = ratings['movie_id'].fillna(0)\n",
    "\n",
    "# Replace \"NaN\" in rating column with average of all values\n",
    "ratings['rating'] = ratings['rating'].fillna(ratings['rating'].mean())"
   ]
  },
  {
   "cell_type": "markdown",
   "metadata": {},
   "source": [
    "Pick 3% random sample of 30,000 ratings from the 1M ratings."
   ]
  },
  {
   "cell_type": "code",
   "execution_count": 31,
   "metadata": {},
   "outputs": [
    {
     "name": "stdout",
     "output_type": "stream",
     "text": [
      "<class 'pandas.core.frame.DataFrame'>\n",
      "Int64Index: 30006 entries, 14727 to 306957\n",
      "Data columns (total 4 columns):\n",
      "user_id      30006 non-null int64\n",
      "movie_id     30006 non-null int64\n",
      "rating       30006 non-null int64\n",
      "timestamp    30006 non-null int64\n",
      "dtypes: int64(4)\n",
      "memory usage: 1.1 MB\n",
      "None\n"
     ]
    }
   ],
   "source": [
    "# Randomly sample 3% of the ratings dataset\n",
    "small_data = ratings.sample(frac=0.03)\n",
    "# Check the sample info\n",
    "print(small_data.info())"
   ]
  },
  {
   "cell_type": "markdown",
   "metadata": {},
   "source": [
    "### Use scikit-learn library to split the dataset into testing and training. Cross_validation.train_test_split shuffles and splits the data into two datasets according to the percentage of test examples, which in this case is 0.3."
   ]
  },
  {
   "cell_type": "code",
   "execution_count": 32,
   "metadata": {},
   "outputs": [],
   "source": [
    "from sklearn import cross_validation as cv\n",
    "train_data, test_data = cv.train_test_split(small_data, test_size=0.3)\n"
   ]
  },
  {
   "cell_type": "markdown",
   "metadata": {},
   "source": [
    "### Create a user-item matrix. We have splitted the data into testing (30%) and training (70%)"
   ]
  },
  {
   "cell_type": "code",
   "execution_count": 33,
   "metadata": {},
   "outputs": [
    {
     "name": "stdout",
     "output_type": "stream",
     "text": [
      "(21004, 3)\n",
      "(9002, 3)\n"
     ]
    }
   ],
   "source": [
    "# Create two user-item matrices, one for training and another for testing\n",
    "train_data_matrix = train_data.as_matrix(columns = ['user_id', 'movie_id', 'rating'])\n",
    "test_data_matrix = test_data.as_matrix(columns = ['user_id', 'movie_id', 'rating'])\n",
    "\n",
    "# Check their shape\n",
    "print(train_data_matrix.shape)\n",
    "print(test_data_matrix.shape)"
   ]
  },
  {
   "cell_type": "markdown",
   "metadata": {},
   "source": [
    "### To calculate the Pearson Correlation Coefficient via pairwise distances function from sklearn. "
   ]
  },
  {
   "cell_type": "markdown",
   "metadata": {},
   "source": [
    "### User Similarity Matrix"
   ]
  },
  {
   "cell_type": "code",
   "execution_count": 34,
   "metadata": {},
   "outputs": [
    {
     "name": "stdout",
     "output_type": "stream",
     "text": [
      "[[1. 1. 1. 1.]\n",
      " [1. 1. 1. 1.]\n",
      " [1. 1. 1. 1.]\n",
      " [1. 1. 1. 1.]]\n"
     ]
    }
   ],
   "source": [
    "from sklearn.metrics.pairwise import pairwise_distances\n",
    "user_correlation = 1 - pairwise_distances(train_data, metric='correlation')\n",
    "user_correlation[np.isnan(user_correlation)] = 0\n",
    "print(user_correlation[:4, :4])"
   ]
  },
  {
   "cell_type": "markdown",
   "metadata": {},
   "source": [
    "### Item Similarity Matrix\n"
   ]
  },
  {
   "cell_type": "code",
   "execution_count": 35,
   "metadata": {},
   "outputs": [
    {
     "name": "stdout",
     "output_type": "stream",
     "text": [
      "[[ 1.         -0.0143155   0.00777988]\n",
      " [-0.0143155   1.         -0.06128572]\n",
      " [ 0.00777988 -0.06128572  1.        ]]\n"
     ]
    }
   ],
   "source": [
    "item_correlation = 1 - pairwise_distances(train_data_matrix.T, metric='correlation')\n",
    "item_correlation[np.isnan(item_correlation)] = 0\n",
    "print(item_correlation[:4, :4])"
   ]
  },
  {
   "cell_type": "markdown",
   "metadata": {},
   "source": [
    "### To validate our recommender model."
   ]
  },
  {
   "cell_type": "code",
   "execution_count": 36,
   "metadata": {},
   "outputs": [],
   "source": [
    "# Function to predict ratings\n",
    "def predict(ratings, similarity, type='user'):\n",
    "    if type == 'user':\n",
    "        mean_user_rating = ratings.mean(axis=1)\n",
    "        # Use np.newaxis so that mean_user_rating has same format as ratings\n",
    "        ratings_diff = (ratings - mean_user_rating[:, np.newaxis])\n",
    "        pred = mean_user_rating[:, np.newaxis] + similarity.dot(ratings_diff) / np.array([np.abs(similarity).sum(axis=1)]).T\n",
    "    elif type == 'item':\n",
    "        pred = ratings.dot(similarity) / np.array([np.abs(similarity).sum(axis=1)])\n",
    "    return pred"
   ]
  },
  {
   "cell_type": "markdown",
   "metadata": {},
   "source": [
    "### To evaluate accuracy of predicted ratings is Root Mean Squared Error (RMSE), where the RMSE is the square root of  mean square error (MSE)."
   ]
  },
  {
   "cell_type": "code",
   "execution_count": 37,
   "metadata": {},
   "outputs": [],
   "source": [
    "from sklearn.metrics import mean_squared_error\n",
    "from math import sqrt\n",
    "\n",
    "# Function to calculate RMSE\n",
    "def rmse(pred, actual):\n",
    "    # Ignore nonzero terms.\n",
    "    pred = pred[actual.nonzero()].flatten()\n",
    "    actual = actual[actual.nonzero()].flatten()\n",
    "    return sqrt(mean_squared_error(pred, actual))"
   ]
  },
  {
   "cell_type": "code",
   "execution_count": 38,
   "metadata": {},
   "outputs": [
    {
     "name": "stdout",
     "output_type": "stream",
     "text": [
      "User-based CF RMSE in test data: 1360.3997449620258\n",
      "Item-based CF RMSE in test data: 1637.7149515047147\n"
     ]
    }
   ],
   "source": [
    "# Predict ratings on the training data with both similarity score\n",
    "user_prediction = predict(train_data_matrix, user_correlation, type='user')\n",
    "item_prediction = predict(train_data_matrix, item_correlation, type='item')\n",
    "\n",
    "# RMSE on the test data\n",
    "print('User-based CF RMSE in test data: ' + str(rmse(user_prediction, test_data_matrix)))\n",
    "print('Item-based CF RMSE in test data: ' + str(rmse(item_prediction, test_data_matrix)))"
   ]
  },
  {
   "cell_type": "code",
   "execution_count": 39,
   "metadata": {},
   "outputs": [
    {
     "name": "stdout",
     "output_type": "stream",
     "text": [
      "User-based CF RMSE in train data: 968.7353694506947\n",
      "Item-based CF RMSE in train data: 137.77805950216484\n"
     ]
    }
   ],
   "source": [
    "# RMSE on the train data\n",
    "print('User-based CF RMSE in train data: ' + str(rmse(user_prediction, train_data_matrix)))\n",
    "print('Item-based CF RMSE in train data: ' + str(rmse(item_prediction, train_data_matrix)))"
   ]
  },
  {
   "cell_type": "markdown",
   "metadata": {},
   "source": [
    "Both User-based and Item-based CF RMSE are large, it may due to overfitted the training data."
   ]
  },
  {
   "cell_type": "markdown",
   "metadata": {},
   "source": [
    "# Model-Based Collaborative Filtering"
   ]
  },
  {
   "cell_type": "markdown",
   "metadata": {},
   "source": [
    "### Matrix factorization is widely used for recommender systems where it can deal better with scalability and sparsity than Memory-based CF. The goal of MF is to learn the latent preferences of users and the latent attributes of items from known ratings (learn features that describe the characteristics of ratings) to then predict the unknown ratings through the dot product of the latent features of users and items. As per my understanding, the algorithms in this approach can further be broken down into 3 sub-types:\n",
    "### (i) Matrix Factorization (MF): The idea behind such models is that attitudes or preferences of a user can be determined by a small number of hidden latent factors. These factors are also called Embeddings, which represent different characteristics for users and items. Matrix factorization can be done by various methods including Singular Vector Decomposition (SVD), Probabilistic Matrix Factorization (PMF), and Non-Negative Matrix Factorization (NMF).\n",
    "### (ii) Clustering based algorithm (KNN): The idea of clustering is same as that of memory-based recommendation systems. In memory-based algorithms, we use the similarities between users and/or items and use them as weights to predict a rating for a user and an item. The difference is that the similarities in this approach are calculated based on an unsupervised learning model, rather than Pearson correlation or cosine similarity."
   ]
  },
  {
   "cell_type": "markdown",
   "metadata": {},
   "source": [
    "### Model-Based Collaborative Filtering¶ \n",
    "Model-based Collaborative Filtering is based on matrix factorization (MF) which has received greater exposure, mainly as an unsupervised learning method for latent variable decomposition and dimensionality reduction. Matrix factorization is widely used for recommender systems where it can deal better with scalability and sparsity than Memory-based CF:\n",
    "The goal of MF is to learn the latent preferences of users and the latent attributes of items from known ratings (learn features that describe the characteristics of ratings) to then predict the unknown ratings through the dot product of the latent features of users and items. \n",
    "When you have a very sparse matrix, with a lot of dimensions, by doing matrix factorization, you can restructure the user-item matrix into low-rank structure, and you can represent the matrix by the multiplication of two low-rank matrices, where the rows contain the latent vector. \n",
    "You fit this matrix to approximate your original matrix, as closely as possible, by multiplying the low-rank matrices together, which fills in the entries missing in the original matrix."
   ]
  },
  {
   "cell_type": "markdown",
   "metadata": {},
   "source": [
    "### Pivot ratings"
   ]
  },
  {
   "cell_type": "code",
   "execution_count": 40,
   "metadata": {},
   "outputs": [
    {
     "data": {
      "text/html": [
       "<div>\n",
       "<style scoped>\n",
       "    .dataframe tbody tr th:only-of-type {\n",
       "        vertical-align: middle;\n",
       "    }\n",
       "\n",
       "    .dataframe tbody tr th {\n",
       "        vertical-align: top;\n",
       "    }\n",
       "\n",
       "    .dataframe thead th {\n",
       "        text-align: right;\n",
       "    }\n",
       "</style>\n",
       "<table border=\"1\" class=\"dataframe\">\n",
       "  <thead>\n",
       "    <tr style=\"text-align: right;\">\n",
       "      <th>movie_id</th>\n",
       "      <th>1</th>\n",
       "      <th>2</th>\n",
       "      <th>3</th>\n",
       "      <th>4</th>\n",
       "      <th>5</th>\n",
       "      <th>6</th>\n",
       "      <th>7</th>\n",
       "      <th>8</th>\n",
       "      <th>9</th>\n",
       "      <th>10</th>\n",
       "      <th>...</th>\n",
       "      <th>3943</th>\n",
       "      <th>3944</th>\n",
       "      <th>3945</th>\n",
       "      <th>3946</th>\n",
       "      <th>3947</th>\n",
       "      <th>3948</th>\n",
       "      <th>3949</th>\n",
       "      <th>3950</th>\n",
       "      <th>3951</th>\n",
       "      <th>3952</th>\n",
       "    </tr>\n",
       "    <tr>\n",
       "      <th>user_id</th>\n",
       "      <th></th>\n",
       "      <th></th>\n",
       "      <th></th>\n",
       "      <th></th>\n",
       "      <th></th>\n",
       "      <th></th>\n",
       "      <th></th>\n",
       "      <th></th>\n",
       "      <th></th>\n",
       "      <th></th>\n",
       "      <th></th>\n",
       "      <th></th>\n",
       "      <th></th>\n",
       "      <th></th>\n",
       "      <th></th>\n",
       "      <th></th>\n",
       "      <th></th>\n",
       "      <th></th>\n",
       "      <th></th>\n",
       "      <th></th>\n",
       "      <th></th>\n",
       "    </tr>\n",
       "  </thead>\n",
       "  <tbody>\n",
       "    <tr>\n",
       "      <th>1</th>\n",
       "      <td>5.0</td>\n",
       "      <td>0.0</td>\n",
       "      <td>0.0</td>\n",
       "      <td>0.0</td>\n",
       "      <td>0.0</td>\n",
       "      <td>0.0</td>\n",
       "      <td>0.0</td>\n",
       "      <td>0.0</td>\n",
       "      <td>0.0</td>\n",
       "      <td>0.0</td>\n",
       "      <td>...</td>\n",
       "      <td>0.0</td>\n",
       "      <td>0.0</td>\n",
       "      <td>0.0</td>\n",
       "      <td>0.0</td>\n",
       "      <td>0.0</td>\n",
       "      <td>0.0</td>\n",
       "      <td>0.0</td>\n",
       "      <td>0.0</td>\n",
       "      <td>0.0</td>\n",
       "      <td>0.0</td>\n",
       "    </tr>\n",
       "    <tr>\n",
       "      <th>2</th>\n",
       "      <td>0.0</td>\n",
       "      <td>0.0</td>\n",
       "      <td>0.0</td>\n",
       "      <td>0.0</td>\n",
       "      <td>0.0</td>\n",
       "      <td>0.0</td>\n",
       "      <td>0.0</td>\n",
       "      <td>0.0</td>\n",
       "      <td>0.0</td>\n",
       "      <td>0.0</td>\n",
       "      <td>...</td>\n",
       "      <td>0.0</td>\n",
       "      <td>0.0</td>\n",
       "      <td>0.0</td>\n",
       "      <td>0.0</td>\n",
       "      <td>0.0</td>\n",
       "      <td>0.0</td>\n",
       "      <td>0.0</td>\n",
       "      <td>0.0</td>\n",
       "      <td>0.0</td>\n",
       "      <td>0.0</td>\n",
       "    </tr>\n",
       "    <tr>\n",
       "      <th>3</th>\n",
       "      <td>0.0</td>\n",
       "      <td>0.0</td>\n",
       "      <td>0.0</td>\n",
       "      <td>0.0</td>\n",
       "      <td>0.0</td>\n",
       "      <td>0.0</td>\n",
       "      <td>0.0</td>\n",
       "      <td>0.0</td>\n",
       "      <td>0.0</td>\n",
       "      <td>0.0</td>\n",
       "      <td>...</td>\n",
       "      <td>0.0</td>\n",
       "      <td>0.0</td>\n",
       "      <td>0.0</td>\n",
       "      <td>0.0</td>\n",
       "      <td>0.0</td>\n",
       "      <td>0.0</td>\n",
       "      <td>0.0</td>\n",
       "      <td>0.0</td>\n",
       "      <td>0.0</td>\n",
       "      <td>0.0</td>\n",
       "    </tr>\n",
       "    <tr>\n",
       "      <th>4</th>\n",
       "      <td>0.0</td>\n",
       "      <td>0.0</td>\n",
       "      <td>0.0</td>\n",
       "      <td>0.0</td>\n",
       "      <td>0.0</td>\n",
       "      <td>0.0</td>\n",
       "      <td>0.0</td>\n",
       "      <td>0.0</td>\n",
       "      <td>0.0</td>\n",
       "      <td>0.0</td>\n",
       "      <td>...</td>\n",
       "      <td>0.0</td>\n",
       "      <td>0.0</td>\n",
       "      <td>0.0</td>\n",
       "      <td>0.0</td>\n",
       "      <td>0.0</td>\n",
       "      <td>0.0</td>\n",
       "      <td>0.0</td>\n",
       "      <td>0.0</td>\n",
       "      <td>0.0</td>\n",
       "      <td>0.0</td>\n",
       "    </tr>\n",
       "    <tr>\n",
       "      <th>5</th>\n",
       "      <td>0.0</td>\n",
       "      <td>0.0</td>\n",
       "      <td>0.0</td>\n",
       "      <td>0.0</td>\n",
       "      <td>0.0</td>\n",
       "      <td>2.0</td>\n",
       "      <td>0.0</td>\n",
       "      <td>0.0</td>\n",
       "      <td>0.0</td>\n",
       "      <td>0.0</td>\n",
       "      <td>...</td>\n",
       "      <td>0.0</td>\n",
       "      <td>0.0</td>\n",
       "      <td>0.0</td>\n",
       "      <td>0.0</td>\n",
       "      <td>0.0</td>\n",
       "      <td>0.0</td>\n",
       "      <td>0.0</td>\n",
       "      <td>0.0</td>\n",
       "      <td>0.0</td>\n",
       "      <td>0.0</td>\n",
       "    </tr>\n",
       "  </tbody>\n",
       "</table>\n",
       "<p>5 rows × 3706 columns</p>\n",
       "</div>"
      ],
      "text/plain": [
       "movie_id  1     2     3     4     5     6     7     8     9     10    ...   \\\n",
       "user_id                                                               ...    \n",
       "1          5.0   0.0   0.0   0.0   0.0   0.0   0.0   0.0   0.0   0.0  ...    \n",
       "2          0.0   0.0   0.0   0.0   0.0   0.0   0.0   0.0   0.0   0.0  ...    \n",
       "3          0.0   0.0   0.0   0.0   0.0   0.0   0.0   0.0   0.0   0.0  ...    \n",
       "4          0.0   0.0   0.0   0.0   0.0   0.0   0.0   0.0   0.0   0.0  ...    \n",
       "5          0.0   0.0   0.0   0.0   0.0   2.0   0.0   0.0   0.0   0.0  ...    \n",
       "\n",
       "movie_id  3943  3944  3945  3946  3947  3948  3949  3950  3951  3952  \n",
       "user_id                                                               \n",
       "1          0.0   0.0   0.0   0.0   0.0   0.0   0.0   0.0   0.0   0.0  \n",
       "2          0.0   0.0   0.0   0.0   0.0   0.0   0.0   0.0   0.0   0.0  \n",
       "3          0.0   0.0   0.0   0.0   0.0   0.0   0.0   0.0   0.0   0.0  \n",
       "4          0.0   0.0   0.0   0.0   0.0   0.0   0.0   0.0   0.0   0.0  \n",
       "5          0.0   0.0   0.0   0.0   0.0   0.0   0.0   0.0   0.0   0.0  \n",
       "\n",
       "[5 rows x 3706 columns]"
      ]
     },
     "execution_count": 40,
     "metadata": {},
     "output_type": "execute_result"
    }
   ],
   "source": [
    "Ratings = ratings.pivot(index = 'user_id', columns ='movie_id', values = 'rating').fillna(0)\n",
    "Ratings.head()"
   ]
  },
  {
   "cell_type": "markdown",
   "metadata": {},
   "source": [
    "### Denormalize the data (normalize by each users mean) and convert it from a dataframe to a numpy array."
   ]
  },
  {
   "cell_type": "code",
   "execution_count": 41,
   "metadata": {},
   "outputs": [],
   "source": [
    "R = Ratings.as_matrix()\n",
    "user_ratings_mean = np.mean(R, axis = 1)\n",
    "Ratings_demeaned = R - user_ratings_mean.reshape(-1, 1)"
   ]
  },
  {
   "cell_type": "markdown",
   "metadata": {},
   "source": [
    "Setting Up SVD"
   ]
  },
  {
   "cell_type": "code",
   "execution_count": 42,
   "metadata": {},
   "outputs": [],
   "source": [
    "from scipy.sparse.linalg import svds\n",
    "U, sigma, Vt = svds(Ratings_demeaned, k = 50)"
   ]
  },
  {
   "cell_type": "code",
   "execution_count": 43,
   "metadata": {},
   "outputs": [],
   "source": [
    "sigma = np.diag(sigma)"
   ]
  },
  {
   "cell_type": "markdown",
   "metadata": {},
   "source": [
    "Making Predictions from the Decomposed Matrices\n",
    "\n",
    "\n",
    "\n"
   ]
  },
  {
   "cell_type": "code",
   "execution_count": 44,
   "metadata": {},
   "outputs": [],
   "source": [
    "all_user_predicted_ratings = np.dot(np.dot(U, sigma), Vt) + user_ratings_mean.reshape(-1, 1)"
   ]
  },
  {
   "cell_type": "markdown",
   "metadata": {},
   "source": [
    "With the predictions matrix for every user, I can build a function to recommend movies for any user. I return the list of movies the user has already rated, for the sake of comparison."
   ]
  },
  {
   "cell_type": "code",
   "execution_count": 45,
   "metadata": {},
   "outputs": [
    {
     "data": {
      "text/html": [
       "<div>\n",
       "<style scoped>\n",
       "    .dataframe tbody tr th:only-of-type {\n",
       "        vertical-align: middle;\n",
       "    }\n",
       "\n",
       "    .dataframe tbody tr th {\n",
       "        vertical-align: top;\n",
       "    }\n",
       "\n",
       "    .dataframe thead th {\n",
       "        text-align: right;\n",
       "    }\n",
       "</style>\n",
       "<table border=\"1\" class=\"dataframe\">\n",
       "  <thead>\n",
       "    <tr style=\"text-align: right;\">\n",
       "      <th>movie_id</th>\n",
       "      <th>1</th>\n",
       "      <th>2</th>\n",
       "      <th>3</th>\n",
       "      <th>4</th>\n",
       "      <th>5</th>\n",
       "      <th>6</th>\n",
       "      <th>7</th>\n",
       "      <th>8</th>\n",
       "      <th>9</th>\n",
       "      <th>10</th>\n",
       "      <th>...</th>\n",
       "      <th>3943</th>\n",
       "      <th>3944</th>\n",
       "      <th>3945</th>\n",
       "      <th>3946</th>\n",
       "      <th>3947</th>\n",
       "      <th>3948</th>\n",
       "      <th>3949</th>\n",
       "      <th>3950</th>\n",
       "      <th>3951</th>\n",
       "      <th>3952</th>\n",
       "    </tr>\n",
       "  </thead>\n",
       "  <tbody>\n",
       "    <tr>\n",
       "      <th>0</th>\n",
       "      <td>4.288861</td>\n",
       "      <td>0.143055</td>\n",
       "      <td>-0.195080</td>\n",
       "      <td>-0.018843</td>\n",
       "      <td>0.012232</td>\n",
       "      <td>-0.176604</td>\n",
       "      <td>-0.074120</td>\n",
       "      <td>0.141358</td>\n",
       "      <td>-0.059553</td>\n",
       "      <td>-0.195950</td>\n",
       "      <td>...</td>\n",
       "      <td>0.027807</td>\n",
       "      <td>0.001640</td>\n",
       "      <td>0.026395</td>\n",
       "      <td>-0.022024</td>\n",
       "      <td>-0.085415</td>\n",
       "      <td>0.403529</td>\n",
       "      <td>0.105579</td>\n",
       "      <td>0.031912</td>\n",
       "      <td>0.050450</td>\n",
       "      <td>0.088910</td>\n",
       "    </tr>\n",
       "    <tr>\n",
       "      <th>1</th>\n",
       "      <td>0.744716</td>\n",
       "      <td>0.169659</td>\n",
       "      <td>0.335418</td>\n",
       "      <td>0.000758</td>\n",
       "      <td>0.022475</td>\n",
       "      <td>1.353050</td>\n",
       "      <td>0.051426</td>\n",
       "      <td>0.071258</td>\n",
       "      <td>0.161601</td>\n",
       "      <td>1.567246</td>\n",
       "      <td>...</td>\n",
       "      <td>-0.056502</td>\n",
       "      <td>-0.013733</td>\n",
       "      <td>-0.010580</td>\n",
       "      <td>0.062576</td>\n",
       "      <td>-0.016248</td>\n",
       "      <td>0.155790</td>\n",
       "      <td>-0.418737</td>\n",
       "      <td>-0.101102</td>\n",
       "      <td>-0.054098</td>\n",
       "      <td>-0.140188</td>\n",
       "    </tr>\n",
       "    <tr>\n",
       "      <th>2</th>\n",
       "      <td>1.818824</td>\n",
       "      <td>0.456136</td>\n",
       "      <td>0.090978</td>\n",
       "      <td>-0.043037</td>\n",
       "      <td>-0.025694</td>\n",
       "      <td>-0.158617</td>\n",
       "      <td>-0.131778</td>\n",
       "      <td>0.098977</td>\n",
       "      <td>0.030551</td>\n",
       "      <td>0.735470</td>\n",
       "      <td>...</td>\n",
       "      <td>0.040481</td>\n",
       "      <td>-0.005301</td>\n",
       "      <td>0.012832</td>\n",
       "      <td>0.029349</td>\n",
       "      <td>0.020866</td>\n",
       "      <td>0.121532</td>\n",
       "      <td>0.076205</td>\n",
       "      <td>0.012345</td>\n",
       "      <td>0.015148</td>\n",
       "      <td>-0.109956</td>\n",
       "    </tr>\n",
       "    <tr>\n",
       "      <th>3</th>\n",
       "      <td>0.408057</td>\n",
       "      <td>-0.072960</td>\n",
       "      <td>0.039642</td>\n",
       "      <td>0.089363</td>\n",
       "      <td>0.041950</td>\n",
       "      <td>0.237753</td>\n",
       "      <td>-0.049426</td>\n",
       "      <td>0.009467</td>\n",
       "      <td>0.045469</td>\n",
       "      <td>-0.111370</td>\n",
       "      <td>...</td>\n",
       "      <td>0.008571</td>\n",
       "      <td>-0.005425</td>\n",
       "      <td>-0.008500</td>\n",
       "      <td>-0.003417</td>\n",
       "      <td>-0.083982</td>\n",
       "      <td>0.094512</td>\n",
       "      <td>0.057557</td>\n",
       "      <td>-0.026050</td>\n",
       "      <td>0.014841</td>\n",
       "      <td>-0.034224</td>\n",
       "    </tr>\n",
       "    <tr>\n",
       "      <th>4</th>\n",
       "      <td>1.574272</td>\n",
       "      <td>0.021239</td>\n",
       "      <td>-0.051300</td>\n",
       "      <td>0.246884</td>\n",
       "      <td>-0.032406</td>\n",
       "      <td>1.552281</td>\n",
       "      <td>-0.199630</td>\n",
       "      <td>-0.014920</td>\n",
       "      <td>-0.060498</td>\n",
       "      <td>0.450512</td>\n",
       "      <td>...</td>\n",
       "      <td>0.110151</td>\n",
       "      <td>0.046010</td>\n",
       "      <td>0.006934</td>\n",
       "      <td>-0.015940</td>\n",
       "      <td>-0.050080</td>\n",
       "      <td>-0.052539</td>\n",
       "      <td>0.507189</td>\n",
       "      <td>0.033830</td>\n",
       "      <td>0.125706</td>\n",
       "      <td>0.199244</td>\n",
       "    </tr>\n",
       "  </tbody>\n",
       "</table>\n",
       "<p>5 rows × 3706 columns</p>\n",
       "</div>"
      ],
      "text/plain": [
       "movie_id      1         2         3         4         5         6     \\\n",
       "0         4.288861  0.143055 -0.195080 -0.018843  0.012232 -0.176604   \n",
       "1         0.744716  0.169659  0.335418  0.000758  0.022475  1.353050   \n",
       "2         1.818824  0.456136  0.090978 -0.043037 -0.025694 -0.158617   \n",
       "3         0.408057 -0.072960  0.039642  0.089363  0.041950  0.237753   \n",
       "4         1.574272  0.021239 -0.051300  0.246884 -0.032406  1.552281   \n",
       "\n",
       "movie_id      7         8         9         10      ...         3943  \\\n",
       "0        -0.074120  0.141358 -0.059553 -0.195950    ...     0.027807   \n",
       "1         0.051426  0.071258  0.161601  1.567246    ...    -0.056502   \n",
       "2        -0.131778  0.098977  0.030551  0.735470    ...     0.040481   \n",
       "3        -0.049426  0.009467  0.045469 -0.111370    ...     0.008571   \n",
       "4        -0.199630 -0.014920 -0.060498  0.450512    ...     0.110151   \n",
       "\n",
       "movie_id      3944      3945      3946      3947      3948      3949  \\\n",
       "0         0.001640  0.026395 -0.022024 -0.085415  0.403529  0.105579   \n",
       "1        -0.013733 -0.010580  0.062576 -0.016248  0.155790 -0.418737   \n",
       "2        -0.005301  0.012832  0.029349  0.020866  0.121532  0.076205   \n",
       "3        -0.005425 -0.008500 -0.003417 -0.083982  0.094512  0.057557   \n",
       "4         0.046010  0.006934 -0.015940 -0.050080 -0.052539  0.507189   \n",
       "\n",
       "movie_id      3950      3951      3952  \n",
       "0         0.031912  0.050450  0.088910  \n",
       "1        -0.101102 -0.054098 -0.140188  \n",
       "2         0.012345  0.015148 -0.109956  \n",
       "3        -0.026050  0.014841 -0.034224  \n",
       "4         0.033830  0.125706  0.199244  \n",
       "\n",
       "[5 rows x 3706 columns]"
      ]
     },
     "execution_count": 45,
     "metadata": {},
     "output_type": "execute_result"
    }
   ],
   "source": [
    "preds = pd.DataFrame(all_user_predicted_ratings, columns = Ratings.columns)\n",
    "preds.head()"
   ]
  },
  {
   "cell_type": "code",
   "execution_count": 46,
   "metadata": {},
   "outputs": [],
   "source": [
    "def recommend_movies(predictions, userID, movies, original_ratings, num_recommendations):\n",
    "    # Get and sort the user's predictions\n",
    "    user_row_number = userID - 1 # User ID starts at 1, not 0\n",
    "    sorted_user_predictions = preds.iloc[user_row_number].sort_values(ascending=False) # User ID starts at 1\n",
    "    # Get the user's data and merge in the movie information.\n",
    "    user_data = original_ratings[original_ratings.user_id == (userID)]\n",
    "    user_full = (user_data.merge(movies, how = 'left', left_on = 'movie_id', right_on = 'movie_id').\n",
    "                     sort_values(['rating'], ascending=False)\n",
    "                 )\n",
    "    #print 'User {0} has already rated {1} movies.'.format(userID, user_full.shape[0])\n",
    "    # print 'Recommending highest {0} predicted ratings movies not already rated.'.format(num_recommendations)\n",
    "    # Recommend the highest predicted rating movies that the user hasn't seen yet.\n",
    "    recommendations = (movies[~movies['movie_id'].isin(user_full['movie_id'])].\n",
    "         merge(pd.DataFrame(sorted_user_predictions).reset_index(), how = 'left',\n",
    "               left_on = 'movie_id',\n",
    "               right_on = 'movie_id').\n",
    "         rename(columns = {user_row_number: 'Predictions'}).\n",
    "         sort_values('Predictions', ascending = False).\n",
    "                       iloc[:num_recommendations, :-1]\n",
    "                      )\n",
    "    return user_full, recommendations"
   ]
  },
  {
   "cell_type": "code",
   "execution_count": 47,
   "metadata": {},
   "outputs": [],
   "source": [
    "already_rated, predictions = recommend_movies(preds, 1310, movies, ratings, 20)"
   ]
  },
  {
   "cell_type": "code",
   "execution_count": 48,
   "metadata": {},
   "outputs": [
    {
     "data": {
      "text/html": [
       "<div>\n",
       "<style scoped>\n",
       "    .dataframe tbody tr th:only-of-type {\n",
       "        vertical-align: middle;\n",
       "    }\n",
       "\n",
       "    .dataframe tbody tr th {\n",
       "        vertical-align: top;\n",
       "    }\n",
       "\n",
       "    .dataframe thead th {\n",
       "        text-align: right;\n",
       "    }\n",
       "</style>\n",
       "<table border=\"1\" class=\"dataframe\">\n",
       "  <thead>\n",
       "    <tr style=\"text-align: right;\">\n",
       "      <th></th>\n",
       "      <th>user_id</th>\n",
       "      <th>movie_id</th>\n",
       "      <th>rating</th>\n",
       "      <th>timestamp</th>\n",
       "      <th>title</th>\n",
       "      <th>genres</th>\n",
       "    </tr>\n",
       "  </thead>\n",
       "  <tbody>\n",
       "    <tr>\n",
       "      <th>5</th>\n",
       "      <td>1310</td>\n",
       "      <td>2248</td>\n",
       "      <td>5</td>\n",
       "      <td>974781573</td>\n",
       "      <td>Say Anything... (1989)</td>\n",
       "      <td>['Comedy', 'Drama', 'Romance']</td>\n",
       "    </tr>\n",
       "    <tr>\n",
       "      <th>6</th>\n",
       "      <td>1310</td>\n",
       "      <td>2620</td>\n",
       "      <td>5</td>\n",
       "      <td>974781573</td>\n",
       "      <td>This Is My Father (1998)</td>\n",
       "      <td>['Drama', 'Romance']</td>\n",
       "    </tr>\n",
       "    <tr>\n",
       "      <th>7</th>\n",
       "      <td>1310</td>\n",
       "      <td>3683</td>\n",
       "      <td>5</td>\n",
       "      <td>974781935</td>\n",
       "      <td>Blood Simple (1984)</td>\n",
       "      <td>['Drama', 'Film-Noir']</td>\n",
       "    </tr>\n",
       "    <tr>\n",
       "      <th>15</th>\n",
       "      <td>1310</td>\n",
       "      <td>1704</td>\n",
       "      <td>5</td>\n",
       "      <td>974781573</td>\n",
       "      <td>Good Will Hunting (1997)</td>\n",
       "      <td>['Drama']</td>\n",
       "    </tr>\n",
       "    <tr>\n",
       "      <th>1</th>\n",
       "      <td>1310</td>\n",
       "      <td>1293</td>\n",
       "      <td>5</td>\n",
       "      <td>974781839</td>\n",
       "      <td>Gandhi (1982)</td>\n",
       "      <td>['Drama']</td>\n",
       "    </tr>\n",
       "    <tr>\n",
       "      <th>12</th>\n",
       "      <td>1310</td>\n",
       "      <td>3101</td>\n",
       "      <td>4</td>\n",
       "      <td>974781573</td>\n",
       "      <td>Fatal Attraction (1987)</td>\n",
       "      <td>['Thriller']</td>\n",
       "    </tr>\n",
       "    <tr>\n",
       "      <th>11</th>\n",
       "      <td>1310</td>\n",
       "      <td>1343</td>\n",
       "      <td>4</td>\n",
       "      <td>974781534</td>\n",
       "      <td>Cape Fear (1991)</td>\n",
       "      <td>['Thriller']</td>\n",
       "    </tr>\n",
       "    <tr>\n",
       "      <th>20</th>\n",
       "      <td>1310</td>\n",
       "      <td>2000</td>\n",
       "      <td>4</td>\n",
       "      <td>974781892</td>\n",
       "      <td>Lethal Weapon (1987)</td>\n",
       "      <td>['Action', 'Comedy', 'Crime', 'Drama']</td>\n",
       "    </tr>\n",
       "    <tr>\n",
       "      <th>18</th>\n",
       "      <td>1310</td>\n",
       "      <td>3526</td>\n",
       "      <td>4</td>\n",
       "      <td>974781892</td>\n",
       "      <td>Parenthood (1989)</td>\n",
       "      <td>['Comedy', 'Drama']</td>\n",
       "    </tr>\n",
       "    <tr>\n",
       "      <th>17</th>\n",
       "      <td>1310</td>\n",
       "      <td>3360</td>\n",
       "      <td>4</td>\n",
       "      <td>974781935</td>\n",
       "      <td>Hoosiers (1986)</td>\n",
       "      <td>['Drama']</td>\n",
       "    </tr>\n",
       "    <tr>\n",
       "      <th>13</th>\n",
       "      <td>1310</td>\n",
       "      <td>3111</td>\n",
       "      <td>4</td>\n",
       "      <td>974782001</td>\n",
       "      <td>Places in the Heart (1984)</td>\n",
       "      <td>['Drama']</td>\n",
       "    </tr>\n",
       "    <tr>\n",
       "      <th>23</th>\n",
       "      <td>1310</td>\n",
       "      <td>1097</td>\n",
       "      <td>4</td>\n",
       "      <td>974781534</td>\n",
       "      <td>E.T. the Extra-Terrestrial (1982)</td>\n",
       "      <td>[\"Children's\", 'Drama', 'Fantasy', 'Sci-Fi']</td>\n",
       "    </tr>\n",
       "    <tr>\n",
       "      <th>10</th>\n",
       "      <td>1310</td>\n",
       "      <td>1196</td>\n",
       "      <td>4</td>\n",
       "      <td>974781701</td>\n",
       "      <td>Star Wars: Episode V - The Empire Strikes Back...</td>\n",
       "      <td>['Action', 'Adventure', 'Drama', 'Sci-Fi', 'War']</td>\n",
       "    </tr>\n",
       "    <tr>\n",
       "      <th>9</th>\n",
       "      <td>1310</td>\n",
       "      <td>1185</td>\n",
       "      <td>4</td>\n",
       "      <td>974781839</td>\n",
       "      <td>My Left Foot (1989)</td>\n",
       "      <td>['Drama']</td>\n",
       "    </tr>\n",
       "    <tr>\n",
       "      <th>8</th>\n",
       "      <td>1310</td>\n",
       "      <td>3685</td>\n",
       "      <td>4</td>\n",
       "      <td>974781935</td>\n",
       "      <td>Prizzi's Honor (1985)</td>\n",
       "      <td>['Comedy', 'Drama', 'Romance']</td>\n",
       "    </tr>\n",
       "    <tr>\n",
       "      <th>4</th>\n",
       "      <td>1310</td>\n",
       "      <td>2243</td>\n",
       "      <td>4</td>\n",
       "      <td>974782001</td>\n",
       "      <td>Broadcast News (1987)</td>\n",
       "      <td>['Comedy', 'Drama', 'Romance']</td>\n",
       "    </tr>\n",
       "    <tr>\n",
       "      <th>3</th>\n",
       "      <td>1310</td>\n",
       "      <td>1299</td>\n",
       "      <td>4</td>\n",
       "      <td>974781701</td>\n",
       "      <td>Killing Fields, The (1984)</td>\n",
       "      <td>['Drama', 'War']</td>\n",
       "    </tr>\n",
       "    <tr>\n",
       "      <th>16</th>\n",
       "      <td>1310</td>\n",
       "      <td>144</td>\n",
       "      <td>3</td>\n",
       "      <td>974781573</td>\n",
       "      <td>Brothers McMullen, The (1995)</td>\n",
       "      <td>['Comedy']</td>\n",
       "    </tr>\n",
       "    <tr>\n",
       "      <th>19</th>\n",
       "      <td>1310</td>\n",
       "      <td>1960</td>\n",
       "      <td>3</td>\n",
       "      <td>974782001</td>\n",
       "      <td>Last Emperor, The (1987)</td>\n",
       "      <td>['Drama', 'War']</td>\n",
       "    </tr>\n",
       "    <tr>\n",
       "      <th>0</th>\n",
       "      <td>1310</td>\n",
       "      <td>2988</td>\n",
       "      <td>3</td>\n",
       "      <td>974781935</td>\n",
       "      <td>Melvin and Howard (1980)</td>\n",
       "      <td>['Drama']</td>\n",
       "    </tr>\n",
       "  </tbody>\n",
       "</table>\n",
       "</div>"
      ],
      "text/plain": [
       "    user_id  movie_id  rating  timestamp  \\\n",
       "5      1310      2248       5  974781573   \n",
       "6      1310      2620       5  974781573   \n",
       "7      1310      3683       5  974781935   \n",
       "15     1310      1704       5  974781573   \n",
       "1      1310      1293       5  974781839   \n",
       "12     1310      3101       4  974781573   \n",
       "11     1310      1343       4  974781534   \n",
       "20     1310      2000       4  974781892   \n",
       "18     1310      3526       4  974781892   \n",
       "17     1310      3360       4  974781935   \n",
       "13     1310      3111       4  974782001   \n",
       "23     1310      1097       4  974781534   \n",
       "10     1310      1196       4  974781701   \n",
       "9      1310      1185       4  974781839   \n",
       "8      1310      3685       4  974781935   \n",
       "4      1310      2243       4  974782001   \n",
       "3      1310      1299       4  974781701   \n",
       "16     1310       144       3  974781573   \n",
       "19     1310      1960       3  974782001   \n",
       "0      1310      2988       3  974781935   \n",
       "\n",
       "                                                title  \\\n",
       "5                              Say Anything... (1989)   \n",
       "6                            This Is My Father (1998)   \n",
       "7                                 Blood Simple (1984)   \n",
       "15                           Good Will Hunting (1997)   \n",
       "1                                       Gandhi (1982)   \n",
       "12                            Fatal Attraction (1987)   \n",
       "11                                   Cape Fear (1991)   \n",
       "20                               Lethal Weapon (1987)   \n",
       "18                                  Parenthood (1989)   \n",
       "17                                    Hoosiers (1986)   \n",
       "13                         Places in the Heart (1984)   \n",
       "23                  E.T. the Extra-Terrestrial (1982)   \n",
       "10  Star Wars: Episode V - The Empire Strikes Back...   \n",
       "9                                 My Left Foot (1989)   \n",
       "8                               Prizzi's Honor (1985)   \n",
       "4                               Broadcast News (1987)   \n",
       "3                          Killing Fields, The (1984)   \n",
       "16                      Brothers McMullen, The (1995)   \n",
       "19                           Last Emperor, The (1987)   \n",
       "0                            Melvin and Howard (1980)   \n",
       "\n",
       "                                               genres  \n",
       "5                      ['Comedy', 'Drama', 'Romance']  \n",
       "6                                ['Drama', 'Romance']  \n",
       "7                              ['Drama', 'Film-Noir']  \n",
       "15                                          ['Drama']  \n",
       "1                                           ['Drama']  \n",
       "12                                       ['Thriller']  \n",
       "11                                       ['Thriller']  \n",
       "20             ['Action', 'Comedy', 'Crime', 'Drama']  \n",
       "18                                ['Comedy', 'Drama']  \n",
       "17                                          ['Drama']  \n",
       "13                                          ['Drama']  \n",
       "23       [\"Children's\", 'Drama', 'Fantasy', 'Sci-Fi']  \n",
       "10  ['Action', 'Adventure', 'Drama', 'Sci-Fi', 'War']  \n",
       "9                                           ['Drama']  \n",
       "8                      ['Comedy', 'Drama', 'Romance']  \n",
       "4                      ['Comedy', 'Drama', 'Romance']  \n",
       "3                                    ['Drama', 'War']  \n",
       "16                                         ['Comedy']  \n",
       "19                                   ['Drama', 'War']  \n",
       "0                                           ['Drama']  "
      ]
     },
     "execution_count": 48,
     "metadata": {},
     "output_type": "execute_result"
    }
   ],
   "source": [
    "already_rated.head(20)"
   ]
  }
 ],
 "metadata": {
  "kernelspec": {
   "display_name": "Python 3",
   "language": "python",
   "name": "python3"
  },
  "language_info": {
   "codemirror_mode": {
    "name": "ipython",
    "version": 3
   },
   "file_extension": ".py",
   "mimetype": "text/x-python",
   "name": "python",
   "nbconvert_exporter": "python",
   "pygments_lexer": "ipython3",
   "version": "3.6.4"
  }
 },
 "nbformat": 4,
 "nbformat_minor": 2
}
